{
  "nbformat": 4,
  "nbformat_minor": 0,
  "metadata": {
    "colab": {
      "name": "Assignment.ipynb",
      "provenance": [],
      "authorship_tag": "ABX9TyNmtZx9Ge68tYCn6ucBIVdL",
      "include_colab_link": true
    },
    "kernelspec": {
      "name": "python3",
      "display_name": "Python 3"
    },
    "language_info": {
      "name": "python"
    }
  },
  "cells": [
    {
      "cell_type": "markdown",
      "metadata": {
        "id": "view-in-github",
        "colab_type": "text"
      },
      "source": [
        "<a href=\"https://colab.research.google.com/github/AVI18794/Machine-Learning/blob/main/Assignment.ipynb\" target=\"_parent\"><img src=\"https://colab.research.google.com/assets/colab-badge.svg\" alt=\"Open In Colab\"/></a>"
      ]
    },
    {
      "cell_type": "code",
      "metadata": {
        "id": "Y_du3r3PIpLx"
      },
      "source": [
        "# Import all the required libraries\n",
        "import pandas as pd\n",
        "import numpy as np\n",
        "import matplotlib.pyplot as plt"
      ],
      "execution_count": 35,
      "outputs": []
    },
    {
      "cell_type": "markdown",
      "metadata": {
        "id": "HCKnq4reOXGG"
      },
      "source": [
        "# TASK 1"
      ]
    },
    {
      "cell_type": "code",
      "metadata": {
        "id": "GAj8gXp7I2UI"
      },
      "source": [
        "#Load the dataset\n",
        "train_data = pd.read_csv('trndata.csv')\n",
        "test_data = pd.read_csv('tstdata.csv')"
      ],
      "execution_count": 36,
      "outputs": []
    },
    {
      "cell_type": "code",
      "metadata": {
        "colab": {
          "base_uri": "https://localhost:8080/"
        },
        "id": "bOj2ApYbJdj3",
        "outputId": "29570d02-fd27-45a9-a05f-a4febdd8b144"
      },
      "source": [
        "#Get the shape of the dataset (How many rows and columns are there in the dataset)\n",
        "#Get the shape of the training data\n",
        "print(\"Number of Rows and Columns  in training data are :\",  train_data.shape)\n",
        "print(\"Number of Rows and Columns  in testing data are :\",  test_data.shape)\n"
      ],
      "execution_count": 37,
      "outputs": [
        {
          "output_type": "stream",
          "text": [
            "Number of Rows and Columns  in training data are : (1000, 13)\n",
            "Number of Rows and Columns  in testing data are : (300, 13)\n"
          ],
          "name": "stdout"
        }
      ]
    },
    {
      "cell_type": "code",
      "metadata": {
        "colab": {
          "base_uri": "https://localhost:8080/",
          "height": 195
        },
        "id": "uVo48DwbKGBl",
        "outputId": "4b179cf4-b278-4162-d5b6-ba6d90f08a8a"
      },
      "source": [
        "#Show the head of the training and test dataset\n",
        "train_data.head()"
      ],
      "execution_count": 38,
      "outputs": [
        {
          "output_type": "execute_result",
          "data": {
            "text/html": [
              "<div>\n",
              "<style scoped>\n",
              "    .dataframe tbody tr th:only-of-type {\n",
              "        vertical-align: middle;\n",
              "    }\n",
              "\n",
              "    .dataframe tbody tr th {\n",
              "        vertical-align: top;\n",
              "    }\n",
              "\n",
              "    .dataframe thead th {\n",
              "        text-align: right;\n",
              "    }\n",
              "</style>\n",
              "<table border=\"1\" class=\"dataframe\">\n",
              "  <thead>\n",
              "    <tr style=\"text-align: right;\">\n",
              "      <th></th>\n",
              "      <th>F1</th>\n",
              "      <th>F2</th>\n",
              "      <th>F3</th>\n",
              "      <th>F4</th>\n",
              "      <th>F5</th>\n",
              "      <th>F6</th>\n",
              "      <th>F7</th>\n",
              "      <th>F8</th>\n",
              "      <th>F9</th>\n",
              "      <th>F10</th>\n",
              "      <th>F11</th>\n",
              "      <th>F12</th>\n",
              "      <th>L</th>\n",
              "    </tr>\n",
              "  </thead>\n",
              "  <tbody>\n",
              "    <tr>\n",
              "      <th>0</th>\n",
              "      <td>0.3315</td>\n",
              "      <td>0.2156</td>\n",
              "      <td>0.6802</td>\n",
              "      <td>0.1434</td>\n",
              "      <td>0.6825</td>\n",
              "      <td>0.2720</td>\n",
              "      <td>0.6223</td>\n",
              "      <td>0.2092</td>\n",
              "      <td>0.7961</td>\n",
              "      <td>0.1530</td>\n",
              "      <td>0.5856</td>\n",
              "      <td>0.2573</td>\n",
              "      <td>1</td>\n",
              "    </tr>\n",
              "    <tr>\n",
              "      <th>1</th>\n",
              "      <td>0.0939</td>\n",
              "      <td>1.0089</td>\n",
              "      <td>0.0365</td>\n",
              "      <td>0.6944</td>\n",
              "      <td>0.0908</td>\n",
              "      <td>0.4961</td>\n",
              "      <td>0.0722</td>\n",
              "      <td>0.6521</td>\n",
              "      <td>-0.0130</td>\n",
              "      <td>0.6085</td>\n",
              "      <td>0.0631</td>\n",
              "      <td>0.6597</td>\n",
              "      <td>2</td>\n",
              "    </tr>\n",
              "    <tr>\n",
              "      <th>2</th>\n",
              "      <td>0.5184</td>\n",
              "      <td>0.2283</td>\n",
              "      <td>0.5300</td>\n",
              "      <td>0.6884</td>\n",
              "      <td>0.7456</td>\n",
              "      <td>0.6171</td>\n",
              "      <td>0.6136</td>\n",
              "      <td>0.5928</td>\n",
              "      <td>0.7678</td>\n",
              "      <td>0.6130</td>\n",
              "      <td>0.6705</td>\n",
              "      <td>0.5202</td>\n",
              "      <td>1</td>\n",
              "    </tr>\n",
              "    <tr>\n",
              "      <th>3</th>\n",
              "      <td>0.4208</td>\n",
              "      <td>0.6740</td>\n",
              "      <td>0.1651</td>\n",
              "      <td>0.7592</td>\n",
              "      <td>0.1810</td>\n",
              "      <td>0.5448</td>\n",
              "      <td>0.1707</td>\n",
              "      <td>0.7554</td>\n",
              "      <td>0.1635</td>\n",
              "      <td>0.5492</td>\n",
              "      <td>0.2598</td>\n",
              "      <td>0.6455</td>\n",
              "      <td>2</td>\n",
              "    </tr>\n",
              "    <tr>\n",
              "      <th>4</th>\n",
              "      <td>0.3130</td>\n",
              "      <td>0.6465</td>\n",
              "      <td>0.5908</td>\n",
              "      <td>0.6924</td>\n",
              "      <td>0.7664</td>\n",
              "      <td>0.6262</td>\n",
              "      <td>1.7177</td>\n",
              "      <td>0.0150</td>\n",
              "      <td>0.0851</td>\n",
              "      <td>1.9046</td>\n",
              "      <td>-0.0165</td>\n",
              "      <td>0.0221</td>\n",
              "      <td>3</td>\n",
              "    </tr>\n",
              "  </tbody>\n",
              "</table>\n",
              "</div>"
            ],
            "text/plain": [
              "       F1      F2      F3      F4      F5  ...      F9     F10     F11     F12  L\n",
              "0  0.3315  0.2156  0.6802  0.1434  0.6825  ...  0.7961  0.1530  0.5856  0.2573  1\n",
              "1  0.0939  1.0089  0.0365  0.6944  0.0908  ... -0.0130  0.6085  0.0631  0.6597  2\n",
              "2  0.5184  0.2283  0.5300  0.6884  0.7456  ...  0.7678  0.6130  0.6705  0.5202  1\n",
              "3  0.4208  0.6740  0.1651  0.7592  0.1810  ...  0.1635  0.5492  0.2598  0.6455  2\n",
              "4  0.3130  0.6465  0.5908  0.6924  0.7664  ...  0.0851  1.9046 -0.0165  0.0221  3\n",
              "\n",
              "[5 rows x 13 columns]"
            ]
          },
          "metadata": {
            "tags": []
          },
          "execution_count": 38
        }
      ]
    },
    {
      "cell_type": "code",
      "metadata": {
        "colab": {
          "base_uri": "https://localhost:8080/"
        },
        "id": "iieG_OVKKh1s",
        "outputId": "f8f7e958-aebe-49c2-dc85-d4adcc9762c0"
      },
      "source": [
        "#Number of features in the  training dataset\n",
        "print(\"Lenght of the features in the training dataset\",len(train_data.columns))\n",
        "print(\"Features are :\",train_data.columns)"
      ],
      "execution_count": 39,
      "outputs": [
        {
          "output_type": "stream",
          "text": [
            "Lenght of the features in the training dataset 13\n",
            "Features are : Index(['F1', 'F2', 'F3', 'F4', 'F5', 'F6', 'F7', 'F8', 'F9', 'F10', 'F11',\n",
            "       'F12', 'L'],\n",
            "      dtype='object')\n"
          ],
          "name": "stdout"
        }
      ]
    },
    {
      "cell_type": "code",
      "metadata": {
        "colab": {
          "base_uri": "https://localhost:8080/"
        },
        "id": "eC4RZZ9WLL6q",
        "outputId": "c0ed6388-8d2e-42cd-8132-d71b9e2aea34"
      },
      "source": [
        "#Number of features in the  testing dataset\n",
        "print(\"Lenght of the features in the testing dataset\",len(test_data.columns))\n",
        "print(\"Features are :\",test_data.columns)"
      ],
      "execution_count": 40,
      "outputs": [
        {
          "output_type": "stream",
          "text": [
            "Lenght of the features in the testing dataset 13\n",
            "Features are : Index(['F1', 'F2', 'F3', 'F4', 'F5', 'F6', 'F7', 'F8', 'F9', 'F10', 'F11',\n",
            "       'F12', 'L'],\n",
            "      dtype='object')\n"
          ],
          "name": "stdout"
        }
      ]
    },
    {
      "cell_type": "code",
      "metadata": {
        "colab": {
          "base_uri": "https://localhost:8080/"
        },
        "id": "PfYdydFzLm3c",
        "outputId": "06be6db0-a9b2-4969-f345-0467f93b18de"
      },
      "source": [
        "#Counts of the rows in each  class in training data\n",
        "train_data['L'].value_counts()"
      ],
      "execution_count": 41,
      "outputs": [
        {
          "output_type": "execute_result",
          "data": {
            "text/plain": [
              "1    343\n",
              "3    341\n",
              "2    316\n",
              "Name: L, dtype: int64"
            ]
          },
          "metadata": {
            "tags": []
          },
          "execution_count": 41
        }
      ]
    },
    {
      "cell_type": "code",
      "metadata": {
        "colab": {
          "base_uri": "https://localhost:8080/"
        },
        "id": "LzQumWmlLxJ7",
        "outputId": "4f95adab-2490-4ff4-b237-2b5303687bdb"
      },
      "source": [
        "#Counts of the rows in each  class in testing data\n",
        "test_data['L'].value_counts()"
      ],
      "execution_count": 42,
      "outputs": [
        {
          "output_type": "execute_result",
          "data": {
            "text/plain": [
              "3    104\n",
              "2     98\n",
              "1     98\n",
              "Name: L, dtype: int64"
            ]
          },
          "metadata": {
            "tags": []
          },
          "execution_count": 42
        }
      ]
    },
    {
      "cell_type": "code",
      "metadata": {
        "colab": {
          "base_uri": "https://localhost:8080/"
        },
        "id": "895tDA4iL8As",
        "outputId": "a7ee05d5-8c9b-4ddd-dcb8-31f917d8da85"
      },
      "source": [
        "from sklearn.utils import shuffle\n",
        "Training_set_I = shuffle(train_data,random_state=45)\n",
        "print(Training_set_I)"
      ],
      "execution_count": 43,
      "outputs": [
        {
          "output_type": "stream",
          "text": [
            "         F1      F2      F3      F4      F5  ...      F9     F10     F11     F12  L\n",
            "726  0.0209  0.7060  0.2470  0.8011  0.3740  ...  0.0461  1.9462 -0.0246  0.0291  3\n",
            "243  0.4689  0.1481  0.7357  0.2329  0.7442  ...  0.8208  0.3054  0.7793  0.1818  1\n",
            "342  1.1561 -0.0618  0.4096  1.0400  0.4179  ...  0.3375  0.6273  0.3995  1.0511  2\n",
            "976  0.3960  0.5710  0.6352  0.8757  0.6999  ...  0.7728  0.9632  0.6477  0.8664  1\n",
            "919  0.4363  0.6118  0.7460  0.6139  0.8352  ... -0.0370  2.0394  0.0433 -0.0515  3\n",
            "..      ...     ...     ...     ...     ...  ...     ...     ...     ...     ... ..\n",
            "544  0.4733  0.5533  0.7878  0.5479  0.9136  ... -0.0787  2.0888  0.0257 -0.0314  3\n",
            "892  1.1344 -0.0328  0.3935  0.4392  0.3808  ...  0.3470  0.3056  0.3493  0.4929  2\n",
            "643  0.1243  0.8552  0.2607  1.2543  0.2224  ...  0.2795  1.4760  0.3078  1.2011  1\n",
            "414  1.0390  0.0757  0.7307  1.0098  0.5982  ...  0.6714  1.0315  0.8457  0.8775  2\n",
            "971  1.1366 -0.0386  0.7026  0.6384  0.4141  ...  0.6124  0.3018  0.7418  0.5917  2\n",
            "\n",
            "[1000 rows x 13 columns]\n"
          ],
          "name": "stdout"
        }
      ]
    },
    {
      "cell_type": "code",
      "metadata": {
        "colab": {
          "base_uri": "https://localhost:8080/",
          "height": 349
        },
        "id": "JpA9V7H0M0k8",
        "outputId": "12aa6a4f-f9ed-4905-b8cf-d7fd65fba894"
      },
      "source": [
        "#Scatter Plot of the dataset features\n",
        "import seaborn as sns\n",
        "import seaborn as sns\n",
        "sns.scatterplot('F1','F10', data=train_data)\n",
        "plt.xlabel('Feature 1')\n",
        "plt.ylabel('Feature 10')\n",
        "plt.title('Scatter Plot of the Features F1 and F10')\n",
        "plt.show()"
      ],
      "execution_count": 44,
      "outputs": [
        {
          "output_type": "stream",
          "text": [
            "/usr/local/lib/python3.7/dist-packages/seaborn/_decorators.py:43: FutureWarning: Pass the following variables as keyword args: x, y. From version 0.12, the only valid positional argument will be `data`, and passing other arguments without an explicit keyword will result in an error or misinterpretation.\n",
            "  FutureWarning\n"
          ],
          "name": "stderr"
        },
        {
          "output_type": "display_data",
          "data": {
            "image/png": "[encoded data removed]",
            "text/plain": [
              "<Figure size 432x288 with 1 Axes>"
            ]
          },
          "metadata": {
            "tags": [],
            "needs_background": "light"
          }
        }
      ]
    },
    {
      "cell_type": "markdown",
      "metadata": {
        "id": "FoTb9KEMOaxn"
      },
      "source": [
        "# TASK 3"
      ]
    },
    {
      "cell_type": "code",
      "metadata": {
        "colab": {
          "base_uri": "https://localhost:8080/"
        },
        "id": "ukkIOAiQNaP5",
        "outputId": "f8217874-498d-4d51-991a-01bbee0597ee"
      },
      "source": [
        "# Take out the last 300 rows from Training_set_I and save them as the validation set.\n",
        "print(len(Training_set_I))\n",
        "validation_set = Training_set_I.iloc[-300:,:]\n",
        "print(\"Length of validation set\",len(validation_set))\n",
        "print(\"Print the validation set\",validation_set)\n",
        "print(\"\\n\\n\\n\")\n",
        "# Save the rest of rows in Training_set_I as the smaller training set (Training set II).\n",
        "print(len(Training_set_I))\n",
        "Training_set_II = Training_set_I.iloc[:-300,:]\n",
        "print(\"Length of validation set\",len(Training_set_II))\n",
        "print(\"Print the validation set\",Training_set_II)"
      ],
      "execution_count": 45,
      "outputs": [
        {
          "output_type": "stream",
          "text": [
            "1000\n",
            "Length of validation set 300\n",
            "Print the validation set          F1      F2      F3      F4      F5  ...      F9     F10     F11     F12  L\n",
            "943  0.5786  0.0495  0.8336  0.1201  0.9328  ...  1.9387  0.0673  0.0027 -0.0028  3\n",
            "252 -0.0495  0.0597  0.0599  0.1809  0.0112  ...  0.0763 -0.0920  0.0532 -0.0637  3\n",
            "450  1.1035  0.0035  0.5619  0.1930  0.4270  ...  0.4615  0.1391  0.5809  0.1712  2\n",
            "757  0.7813  0.2707  1.1661  0.1809  1.3402  ...  2.0146 -0.0100  0.0494 -0.0586  3\n",
            "586  0.7918  0.3077  0.5134  0.9919  0.2700  ...  0.2535  0.7352  0.4208  1.0961  2\n",
            "..      ...     ...     ...     ...     ...  ...     ...     ...     ...     ... ..\n",
            "544  0.4733  0.5533  0.7878  0.5479  0.9136  ... -0.0787  2.0888  0.0257 -0.0314  3\n",
            "892  1.1344 -0.0328  0.3935  0.4392  0.3808  ...  0.3470  0.3056  0.3493  0.4929  2\n",
            "643  0.1243  0.8552  0.2607  1.2543  0.2224  ...  0.2795  1.4760  0.3078  1.2011  1\n",
            "414  1.0390  0.0757  0.7307  1.0098  0.5982  ...  0.6714  1.0315  0.8457  0.8775  2\n",
            "971  1.1366 -0.0386  0.7026  0.6384  0.4141  ...  0.6124  0.3018  0.7418  0.5917  2\n",
            "\n",
            "[300 rows x 13 columns]\n",
            "\n",
            "\n",
            "\n",
            "\n",
            "1000\n",
            "Length of validation set 700\n",
            "Print the validation set          F1      F2      F3      F4      F5  ...      F9     F10     F11     F12  L\n",
            "726  0.0209  0.7060  0.2470  0.8011  0.3740  ...  0.0461  1.9462 -0.0246  0.0291  3\n",
            "243  0.4689  0.1481  0.7357  0.2329  0.7442  ...  0.8208  0.3054  0.7793  0.1818  1\n",
            "342  1.1561 -0.0618  0.4096  1.0400  0.4179  ...  0.3375  0.6273  0.3995  1.0511  2\n",
            "976  0.3960  0.5710  0.6352  0.8757  0.6999  ...  0.7728  0.9632  0.6477  0.8664  1\n",
            "919  0.4363  0.6118  0.7460  0.6139  0.8352  ... -0.0370  2.0394  0.0433 -0.0515  3\n",
            "..      ...     ...     ...     ...     ...  ...     ...     ...     ...     ... ..\n",
            "105  0.5268  0.3336  0.6997  0.4976  0.9724  ...  0.0106  1.9838 -0.0213  0.0246  3\n",
            "494  0.2429  0.8192  0.5522  0.8254  0.6584  ...  0.1117  1.8712  0.0201  1.7049  3\n",
            "356  0.2243  0.6124  0.4186  0.7552  0.5787  ... -0.0811  2.0926 -0.0597  0.0701  3\n",
            "682  0.7746  0.2773  1.2625  0.3768  1.3682  ...  1.3622  0.5502  1.2441  0.4004  1\n",
            "193 -0.0398  0.6514  0.1588  0.7603  0.2672  ...  0.0189  1.9782 -0.0562  0.0684  3\n",
            "\n",
            "[700 rows x 13 columns]\n"
          ],
          "name": "stdout"
        }
      ]
    },
    {
      "cell_type": "markdown",
      "metadata": {
        "id": "YkfUaUfIS-lw"
      },
      "source": [
        " # TASK 2 "
      ]
    },
    {
      "cell_type": "code",
      "metadata": {
        "id": "Lo-f5xSYPY3L"
      },
      "source": [
        "# Task 2: Perform principal component analysis (PCA) on the training set Using Scikit-Learn\n",
        "#  a. Perform a PCA analysis on Training_set_I.\n",
        "#  b. Plot the data in the first principal component (PC1) and the second principal component (PC2) space and label/colour the data in the picture according to their class labels.\n",
        "#  c. Report the variance captured by each principal component and generate a scree plot.\n",
        "#  d. Plot two subplots in one figure:\n",
        "#     • one for projecting the training set in the PC1 and PC2 project space, where the training data should be labelled using different colours in the picture according its class;\n",
        "#     • the other one is for the test set in the same PC space, where the test data should be labelled using different colours according to its class."
      ],
      "execution_count": 46,
      "outputs": []
    },
    {
      "cell_type": "code",
      "metadata": {
        "colab": {
          "base_uri": "https://localhost:8080/",
          "height": 215
        },
        "id": "9QdVjfSXUP8t",
        "outputId": "8b9e40d9-3b61-4bc7-b092-f899e5964936"
      },
      "source": [
        "Training_set_I_pc=Training_set_I.iloc[:,:-1]\n",
        "Training_set_I_pc.head()"
      ],
      "execution_count": 47,
      "outputs": [
        {
          "output_type": "execute_result",
          "data": {
            "text/html": [
              "<div>\n",
              "<style scoped>\n",
              "    .dataframe tbody tr th:only-of-type {\n",
              "        vertical-align: middle;\n",
              "    }\n",
              "\n",
              "    .dataframe tbody tr th {\n",
              "        vertical-align: top;\n",
              "    }\n",
              "\n",
              "    .dataframe thead th {\n",
              "        text-align: right;\n",
              "    }\n",
              "</style>\n",
              "<table border=\"1\" class=\"dataframe\">\n",
              "  <thead>\n",
              "    <tr style=\"text-align: right;\">\n",
              "      <th></th>\n",
              "      <th>F1</th>\n",
              "      <th>F2</th>\n",
              "      <th>F3</th>\n",
              "      <th>F4</th>\n",
              "      <th>F5</th>\n",
              "      <th>F6</th>\n",
              "      <th>F7</th>\n",
              "      <th>F8</th>\n",
              "      <th>F9</th>\n",
              "      <th>F10</th>\n",
              "      <th>F11</th>\n",
              "      <th>F12</th>\n",
              "    </tr>\n",
              "  </thead>\n",
              "  <tbody>\n",
              "    <tr>\n",
              "      <th>726</th>\n",
              "      <td>0.0209</td>\n",
              "      <td>0.7060</td>\n",
              "      <td>0.2470</td>\n",
              "      <td>0.8011</td>\n",
              "      <td>0.3740</td>\n",
              "      <td>0.7966</td>\n",
              "      <td>-0.0369</td>\n",
              "      <td>1.7773</td>\n",
              "      <td>0.0461</td>\n",
              "      <td>1.9462</td>\n",
              "      <td>-0.0246</td>\n",
              "      <td>0.0291</td>\n",
              "    </tr>\n",
              "    <tr>\n",
              "      <th>243</th>\n",
              "      <td>0.4689</td>\n",
              "      <td>0.1481</td>\n",
              "      <td>0.7357</td>\n",
              "      <td>0.2329</td>\n",
              "      <td>0.7442</td>\n",
              "      <td>0.3792</td>\n",
              "      <td>0.6927</td>\n",
              "      <td>0.2833</td>\n",
              "      <td>0.8208</td>\n",
              "      <td>0.3054</td>\n",
              "      <td>0.7793</td>\n",
              "      <td>0.1818</td>\n",
              "    </tr>\n",
              "    <tr>\n",
              "      <th>342</th>\n",
              "      <td>1.1561</td>\n",
              "      <td>-0.0618</td>\n",
              "      <td>0.4096</td>\n",
              "      <td>1.0400</td>\n",
              "      <td>0.4179</td>\n",
              "      <td>0.5648</td>\n",
              "      <td>0.4842</td>\n",
              "      <td>0.9480</td>\n",
              "      <td>0.3375</td>\n",
              "      <td>0.6273</td>\n",
              "      <td>0.3995</td>\n",
              "      <td>1.0511</td>\n",
              "    </tr>\n",
              "    <tr>\n",
              "      <th>976</th>\n",
              "      <td>0.3960</td>\n",
              "      <td>0.5710</td>\n",
              "      <td>0.6352</td>\n",
              "      <td>0.8757</td>\n",
              "      <td>0.6999</td>\n",
              "      <td>1.0322</td>\n",
              "      <td>0.6124</td>\n",
              "      <td>0.9060</td>\n",
              "      <td>0.7728</td>\n",
              "      <td>0.9632</td>\n",
              "      <td>0.6477</td>\n",
              "      <td>0.8664</td>\n",
              "    </tr>\n",
              "    <tr>\n",
              "      <th>919</th>\n",
              "      <td>0.4363</td>\n",
              "      <td>0.6118</td>\n",
              "      <td>0.7460</td>\n",
              "      <td>0.6139</td>\n",
              "      <td>0.8352</td>\n",
              "      <td>0.6512</td>\n",
              "      <td>1.7414</td>\n",
              "      <td>-0.0104</td>\n",
              "      <td>-0.0370</td>\n",
              "      <td>2.0394</td>\n",
              "      <td>0.0433</td>\n",
              "      <td>-0.0515</td>\n",
              "    </tr>\n",
              "  </tbody>\n",
              "</table>\n",
              "</div>"
            ],
            "text/plain": [
              "         F1      F2      F3      F4  ...      F9     F10     F11     F12\n",
              "726  0.0209  0.7060  0.2470  0.8011  ...  0.0461  1.9462 -0.0246  0.0291\n",
              "243  0.4689  0.1481  0.7357  0.2329  ...  0.8208  0.3054  0.7793  0.1818\n",
              "342  1.1561 -0.0618  0.4096  1.0400  ...  0.3375  0.6273  0.3995  1.0511\n",
              "976  0.3960  0.5710  0.6352  0.8757  ...  0.7728  0.9632  0.6477  0.8664\n",
              "919  0.4363  0.6118  0.7460  0.6139  ... -0.0370  2.0394  0.0433 -0.0515\n",
              "\n",
              "[5 rows x 12 columns]"
            ]
          },
          "metadata": {
            "tags": []
          },
          "execution_count": 47
        }
      ]
    },
    {
      "cell_type": "code",
      "metadata": {
        "colab": {
          "base_uri": "https://localhost:8080/",
          "height": 195
        },
        "id": "PhAAlqFUTj5i",
        "outputId": "7dcb7ecc-0682-403a-e66d-62e454e17a90"
      },
      "source": [
        "from sklearn.decomposition import PCA\n",
        "pca = PCA(n_components=2)\n",
        "principalComponents = pca.fit_transform(Training_set_I_pc)\n",
        "principalDf = pd.DataFrame(data = principalComponents\n",
        "             , columns = ['principal component 1', 'principal component 2'])\n",
        "principalDf.head()"
      ],
      "execution_count": 48,
      "outputs": [
        {
          "output_type": "execute_result",
          "data": {
            "text/html": [
              "<div>\n",
              "<style scoped>\n",
              "    .dataframe tbody tr th:only-of-type {\n",
              "        vertical-align: middle;\n",
              "    }\n",
              "\n",
              "    .dataframe tbody tr th {\n",
              "        vertical-align: top;\n",
              "    }\n",
              "\n",
              "    .dataframe thead th {\n",
              "        text-align: right;\n",
              "    }\n",
              "</style>\n",
              "<table border=\"1\" class=\"dataframe\">\n",
              "  <thead>\n",
              "    <tr style=\"text-align: right;\">\n",
              "      <th></th>\n",
              "      <th>principal component 1</th>\n",
              "      <th>principal component 2</th>\n",
              "    </tr>\n",
              "  </thead>\n",
              "  <tbody>\n",
              "    <tr>\n",
              "      <th>0</th>\n",
              "      <td>1.781317</td>\n",
              "      <td>0.064357</td>\n",
              "    </tr>\n",
              "    <tr>\n",
              "      <th>1</th>\n",
              "      <td>-0.858908</td>\n",
              "      <td>-0.347581</td>\n",
              "    </tr>\n",
              "    <tr>\n",
              "      <th>2</th>\n",
              "      <td>0.224200</td>\n",
              "      <td>-0.716182</td>\n",
              "    </tr>\n",
              "    <tr>\n",
              "      <th>3</th>\n",
              "      <td>0.313526</td>\n",
              "      <td>-0.287521</td>\n",
              "    </tr>\n",
              "    <tr>\n",
              "      <th>4</th>\n",
              "      <td>0.097818</td>\n",
              "      <td>1.822830</td>\n",
              "    </tr>\n",
              "  </tbody>\n",
              "</table>\n",
              "</div>"
            ],
            "text/plain": [
              "   principal component 1  principal component 2\n",
              "0               1.781317               0.064357\n",
              "1              -0.858908              -0.347581\n",
              "2               0.224200              -0.716182\n",
              "3               0.313526              -0.287521\n",
              "4               0.097818               1.822830"
            ]
          },
          "metadata": {
            "tags": []
          },
          "execution_count": 48
        }
      ]
    },
    {
      "cell_type": "code",
      "metadata": {
        "colab": {
          "base_uri": "https://localhost:8080/",
          "height": 215
        },
        "id": "wGW8Cz6KeQjR",
        "outputId": "5e1d8a2c-5d60-466c-9e00-126a8ae2699d"
      },
      "source": [
        "Training_set_I.head()"
      ],
      "execution_count": 49,
      "outputs": [
        {
          "output_type": "execute_result",
          "data": {
            "text/html": [
              "<div>\n",
              "<style scoped>\n",
              "    .dataframe tbody tr th:only-of-type {\n",
              "        vertical-align: middle;\n",
              "    }\n",
              "\n",
              "    .dataframe tbody tr th {\n",
              "        vertical-align: top;\n",
              "    }\n",
              "\n",
              "    .dataframe thead th {\n",
              "        text-align: right;\n",
              "    }\n",
              "</style>\n",
              "<table border=\"1\" class=\"dataframe\">\n",
              "  <thead>\n",
              "    <tr style=\"text-align: right;\">\n",
              "      <th></th>\n",
              "      <th>F1</th>\n",
              "      <th>F2</th>\n",
              "      <th>F3</th>\n",
              "      <th>F4</th>\n",
              "      <th>F5</th>\n",
              "      <th>F6</th>\n",
              "      <th>F7</th>\n",
              "      <th>F8</th>\n",
              "      <th>F9</th>\n",
              "      <th>F10</th>\n",
              "      <th>F11</th>\n",
              "      <th>F12</th>\n",
              "      <th>L</th>\n",
              "    </tr>\n",
              "  </thead>\n",
              "  <tbody>\n",
              "    <tr>\n",
              "      <th>726</th>\n",
              "      <td>0.0209</td>\n",
              "      <td>0.7060</td>\n",
              "      <td>0.2470</td>\n",
              "      <td>0.8011</td>\n",
              "      <td>0.3740</td>\n",
              "      <td>0.7966</td>\n",
              "      <td>-0.0369</td>\n",
              "      <td>1.7773</td>\n",
              "      <td>0.0461</td>\n",
              "      <td>1.9462</td>\n",
              "      <td>-0.0246</td>\n",
              "      <td>0.0291</td>\n",
              "      <td>3</td>\n",
              "    </tr>\n",
              "    <tr>\n",
              "      <th>243</th>\n",
              "      <td>0.4689</td>\n",
              "      <td>0.1481</td>\n",
              "      <td>0.7357</td>\n",
              "      <td>0.2329</td>\n",
              "      <td>0.7442</td>\n",
              "      <td>0.3792</td>\n",
              "      <td>0.6927</td>\n",
              "      <td>0.2833</td>\n",
              "      <td>0.8208</td>\n",
              "      <td>0.3054</td>\n",
              "      <td>0.7793</td>\n",
              "      <td>0.1818</td>\n",
              "      <td>1</td>\n",
              "    </tr>\n",
              "    <tr>\n",
              "      <th>342</th>\n",
              "      <td>1.1561</td>\n",
              "      <td>-0.0618</td>\n",
              "      <td>0.4096</td>\n",
              "      <td>1.0400</td>\n",
              "      <td>0.4179</td>\n",
              "      <td>0.5648</td>\n",
              "      <td>0.4842</td>\n",
              "      <td>0.9480</td>\n",
              "      <td>0.3375</td>\n",
              "      <td>0.6273</td>\n",
              "      <td>0.3995</td>\n",
              "      <td>1.0511</td>\n",
              "      <td>2</td>\n",
              "    </tr>\n",
              "    <tr>\n",
              "      <th>976</th>\n",
              "      <td>0.3960</td>\n",
              "      <td>0.5710</td>\n",
              "      <td>0.6352</td>\n",
              "      <td>0.8757</td>\n",
              "      <td>0.6999</td>\n",
              "      <td>1.0322</td>\n",
              "      <td>0.6124</td>\n",
              "      <td>0.9060</td>\n",
              "      <td>0.7728</td>\n",
              "      <td>0.9632</td>\n",
              "      <td>0.6477</td>\n",
              "      <td>0.8664</td>\n",
              "      <td>1</td>\n",
              "    </tr>\n",
              "    <tr>\n",
              "      <th>919</th>\n",
              "      <td>0.4363</td>\n",
              "      <td>0.6118</td>\n",
              "      <td>0.7460</td>\n",
              "      <td>0.6139</td>\n",
              "      <td>0.8352</td>\n",
              "      <td>0.6512</td>\n",
              "      <td>1.7414</td>\n",
              "      <td>-0.0104</td>\n",
              "      <td>-0.0370</td>\n",
              "      <td>2.0394</td>\n",
              "      <td>0.0433</td>\n",
              "      <td>-0.0515</td>\n",
              "      <td>3</td>\n",
              "    </tr>\n",
              "  </tbody>\n",
              "</table>\n",
              "</div>"
            ],
            "text/plain": [
              "         F1      F2      F3      F4      F5  ...      F9     F10     F11     F12  L\n",
              "726  0.0209  0.7060  0.2470  0.8011  0.3740  ...  0.0461  1.9462 -0.0246  0.0291  3\n",
              "243  0.4689  0.1481  0.7357  0.2329  0.7442  ...  0.8208  0.3054  0.7793  0.1818  1\n",
              "342  1.1561 -0.0618  0.4096  1.0400  0.4179  ...  0.3375  0.6273  0.3995  1.0511  2\n",
              "976  0.3960  0.5710  0.6352  0.8757  0.6999  ...  0.7728  0.9632  0.6477  0.8664  1\n",
              "919  0.4363  0.6118  0.7460  0.6139  0.8352  ... -0.0370  2.0394  0.0433 -0.0515  3\n",
              "\n",
              "[5 rows x 13 columns]"
            ]
          },
          "metadata": {
            "tags": []
          },
          "execution_count": 49
        }
      ]
    },
    {
      "cell_type": "code",
      "metadata": {
        "colab": {
          "base_uri": "https://localhost:8080/",
          "height": 195
        },
        "id": "o_QwU2MAUpbv",
        "outputId": "e5753171-dcef-44c0-a5e4-2cda4446b806"
      },
      "source": [
        "finalDf= pd.concat([principalDf, Training_set_I[['L']]], axis = 1)\n",
        "finalDf.head()"
      ],
      "execution_count": 59,
      "outputs": [
        {
          "output_type": "execute_result",
          "data": {
            "text/html": [
              "<div>\n",
              "<style scoped>\n",
              "    .dataframe tbody tr th:only-of-type {\n",
              "        vertical-align: middle;\n",
              "    }\n",
              "\n",
              "    .dataframe tbody tr th {\n",
              "        vertical-align: top;\n",
              "    }\n",
              "\n",
              "    .dataframe thead th {\n",
              "        text-align: right;\n",
              "    }\n",
              "</style>\n",
              "<table border=\"1\" class=\"dataframe\">\n",
              "  <thead>\n",
              "    <tr style=\"text-align: right;\">\n",
              "      <th></th>\n",
              "      <th>principal component 1</th>\n",
              "      <th>principal component 2</th>\n",
              "      <th>L</th>\n",
              "    </tr>\n",
              "  </thead>\n",
              "  <tbody>\n",
              "    <tr>\n",
              "      <th>0</th>\n",
              "      <td>1.781317</td>\n",
              "      <td>0.064357</td>\n",
              "      <td>1</td>\n",
              "    </tr>\n",
              "    <tr>\n",
              "      <th>1</th>\n",
              "      <td>-0.858908</td>\n",
              "      <td>-0.347581</td>\n",
              "      <td>2</td>\n",
              "    </tr>\n",
              "    <tr>\n",
              "      <th>2</th>\n",
              "      <td>0.224200</td>\n",
              "      <td>-0.716182</td>\n",
              "      <td>1</td>\n",
              "    </tr>\n",
              "    <tr>\n",
              "      <th>3</th>\n",
              "      <td>0.313526</td>\n",
              "      <td>-0.287521</td>\n",
              "      <td>2</td>\n",
              "    </tr>\n",
              "    <tr>\n",
              "      <th>4</th>\n",
              "      <td>0.097818</td>\n",
              "      <td>1.822830</td>\n",
              "      <td>3</td>\n",
              "    </tr>\n",
              "  </tbody>\n",
              "</table>\n",
              "</div>"
            ],
            "text/plain": [
              "   principal component 1  principal component 2  L\n",
              "0               1.781317               0.064357  1\n",
              "1              -0.858908              -0.347581  2\n",
              "2               0.224200              -0.716182  1\n",
              "3               0.313526              -0.287521  2\n",
              "4               0.097818               1.822830  3"
            ]
          },
          "metadata": {
            "tags": []
          },
          "execution_count": 59
        }
      ]
    },
    {
      "cell_type": "code",
      "metadata": {
        "colab": {
          "base_uri": "https://localhost:8080/",
          "height": 523
        },
        "id": "ilByEy_Jekim",
        "outputId": "a914a1f5-d5d4-476c-eb04-5d32c389a602"
      },
      "source": [
        "fig = plt.figure(figsize = (8,8))\n",
        "ax = fig.add_subplot(1,1,1) \n",
        "ax.set_xlabel('Principal Component 1', fontsize = 15)\n",
        "ax.set_ylabel('Principal Component 2', fontsize = 15)\n",
        "ax.set_title('2 component PCA', fontsize = 20)\n",
        "targets = [1, 2, 3]\n",
        "colors = ['r', 'g', 'b']\n",
        "for target, color in zip(targets,colors):\n",
        "    indicesToKeep = finalDf['L'] == target\n",
        "    ax.scatter(finalDf.loc[indicesToKeep, 'principal component 1']\n",
        "               , finalDf.loc[indicesToKeep, 'principal component 2']\n",
        "               , c = color\n",
        "               , s = 50)\n",
        "ax.legend(targets)\n",
        "ax.grid()"
      ],
      "execution_count": 61,
      "outputs": [
        {
          "output_type": "display_data",
          "data": {
            "image/png": "[encoded data removed]",
            "text/plain": [
              "<Figure size 576x576 with 1 Axes>"
            ]
          },
          "metadata": {
            "tags": [],
            "needs_background": "light"
          }
        }
      ]
    },
    {
      "cell_type": "code",
      "metadata": {
        "id": "otgazq0jfy_u"
      },
      "source": [
        ""
      ],
      "execution_count": null,
      "outputs": []
    }
  ]
}