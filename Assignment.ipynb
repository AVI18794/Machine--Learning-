{
  "nbformat": 4,
  "nbformat_minor": 0,
  "metadata": {
    "colab": {
      "name": "Assignment.ipynb",
      "provenance": [],
      "toc_visible": true,
      "authorship_tag": "ABX9TyOPJS+tRqmyktn2TzAcmoBM",
      "include_colab_link": true
    },
    "kernelspec": {
      "name": "python3",
      "display_name": "Python 3"
    },
    "language_info": {
      "name": "python"
    }
  },
  "cells": [
    {
      "cell_type": "markdown",
      "metadata": {
        "id": "view-in-github",
        "colab_type": "text"
      },
      "source": [
        "<a href=\"https://colab.research.google.com/github/AVI18794/Machine-Learning/blob/main/Assignment.ipynb\" target=\"_parent\"><img src=\"https://colab.research.google.com/assets/colab-badge.svg\" alt=\"Open In Colab\"/></a>"
      ]
    },
    {
      "cell_type": "code",
      "metadata": {
        "id": "Y_du3r3PIpLx"
      },
      "source": [
        "# Import all the required libraries\n",
        "import pandas as pd\n",
        "import numpy as np\n",
        "import matplotlib.pyplot as plt"
      ],
      "execution_count": 2,
      "outputs": []
    },
    {
      "cell_type": "markdown",
      "metadata": {
        "id": "HCKnq4reOXGG"
      },
      "source": [
        "# TASK 1"
      ]
    },
    {
      "cell_type": "code",
      "metadata": {
        "id": "GAj8gXp7I2UI"
      },
      "source": [
        "#Load the dataset\n",
        "train_data = pd.read_csv('trndata.csv')\n",
        "test_data = pd.read_csv('tstdata.csv')"
      ],
      "execution_count": 4,
      "outputs": []
    },
    {
      "cell_type": "code",
      "metadata": {
        "colab": {
          "base_uri": "https://localhost:8080/"
        },
        "id": "bOj2ApYbJdj3",
        "outputId": "e7efbcb3-0aa5-450d-ec9a-7f0528a0757e"
      },
      "source": [
        "#Get the shape of the dataset (How many rows and columns are there in the dataset)\n",
        "#Get the shape of the training data\n",
        "print(\"Number of Rows and Columns  in training data are :\",  train_data.shape)\n",
        "print(\"Number of Rows and Columns  in testing data are :\",  test_data.shape)\n"
      ],
      "execution_count": 5,
      "outputs": [
        {
          "output_type": "stream",
          "text": [
            "Number of Rows and Columns  in training data are : (1000, 13)\n",
            "Number of Rows and Columns  in testing data are : (300, 13)\n"
          ],
          "name": "stdout"
        }
      ]
    },
    {
      "cell_type": "code",
      "metadata": {
        "colab": {
          "base_uri": "https://localhost:8080/",
          "height": 195
        },
        "id": "uVo48DwbKGBl",
        "outputId": "cdd6f49e-f30e-44f4-97d0-5af934972790"
      },
      "source": [
        "#Show the head of the training and test dataset\n",
        "train_data.head()"
      ],
      "execution_count": 6,
      "outputs": [
        {
          "output_type": "execute_result",
          "data": {
            "text/html": [
              "<div>\n",
              "<style scoped>\n",
              "    .dataframe tbody tr th:only-of-type {\n",
              "        vertical-align: middle;\n",
              "    }\n",
              "\n",
              "    .dataframe tbody tr th {\n",
              "        vertical-align: top;\n",
              "    }\n",
              "\n",
              "    .dataframe thead th {\n",
              "        text-align: right;\n",
              "    }\n",
              "</style>\n",
              "<table border=\"1\" class=\"dataframe\">\n",
              "  <thead>\n",
              "    <tr style=\"text-align: right;\">\n",
              "      <th></th>\n",
              "      <th>F1</th>\n",
              "      <th>F2</th>\n",
              "      <th>F3</th>\n",
              "      <th>F4</th>\n",
              "      <th>F5</th>\n",
              "      <th>F6</th>\n",
              "      <th>F7</th>\n",
              "      <th>F8</th>\n",
              "      <th>F9</th>\n",
              "      <th>F10</th>\n",
              "      <th>F11</th>\n",
              "      <th>F12</th>\n",
              "      <th>L</th>\n",
              "    </tr>\n",
              "  </thead>\n",
              "  <tbody>\n",
              "    <tr>\n",
              "      <th>0</th>\n",
              "      <td>0.3315</td>\n",
              "      <td>0.2156</td>\n",
              "      <td>0.6802</td>\n",
              "      <td>0.1434</td>\n",
              "      <td>0.6825</td>\n",
              "      <td>0.2720</td>\n",
              "      <td>0.6223</td>\n",
              "      <td>0.2092</td>\n",
              "      <td>0.7961</td>\n",
              "      <td>0.1530</td>\n",
              "      <td>0.5856</td>\n",
              "      <td>0.2573</td>\n",
              "      <td>1</td>\n",
              "    </tr>\n",
              "    <tr>\n",
              "      <th>1</th>\n",
              "      <td>0.0939</td>\n",
              "      <td>1.0089</td>\n",
              "      <td>0.0365</td>\n",
              "      <td>0.6944</td>\n",
              "      <td>0.0908</td>\n",
              "      <td>0.4961</td>\n",
              "      <td>0.0722</td>\n",
              "      <td>0.6521</td>\n",
              "      <td>-0.0130</td>\n",
              "      <td>0.6085</td>\n",
              "      <td>0.0631</td>\n",
              "      <td>0.6597</td>\n",
              "      <td>2</td>\n",
              "    </tr>\n",
              "    <tr>\n",
              "      <th>2</th>\n",
              "      <td>0.5184</td>\n",
              "      <td>0.2283</td>\n",
              "      <td>0.5300</td>\n",
              "      <td>0.6884</td>\n",
              "      <td>0.7456</td>\n",
              "      <td>0.6171</td>\n",
              "      <td>0.6136</td>\n",
              "      <td>0.5928</td>\n",
              "      <td>0.7678</td>\n",
              "      <td>0.6130</td>\n",
              "      <td>0.6705</td>\n",
              "      <td>0.5202</td>\n",
              "      <td>1</td>\n",
              "    </tr>\n",
              "    <tr>\n",
              "      <th>3</th>\n",
              "      <td>0.4208</td>\n",
              "      <td>0.6740</td>\n",
              "      <td>0.1651</td>\n",
              "      <td>0.7592</td>\n",
              "      <td>0.1810</td>\n",
              "      <td>0.5448</td>\n",
              "      <td>0.1707</td>\n",
              "      <td>0.7554</td>\n",
              "      <td>0.1635</td>\n",
              "      <td>0.5492</td>\n",
              "      <td>0.2598</td>\n",
              "      <td>0.6455</td>\n",
              "      <td>2</td>\n",
              "    </tr>\n",
              "    <tr>\n",
              "      <th>4</th>\n",
              "      <td>0.3130</td>\n",
              "      <td>0.6465</td>\n",
              "      <td>0.5908</td>\n",
              "      <td>0.6924</td>\n",
              "      <td>0.7664</td>\n",
              "      <td>0.6262</td>\n",
              "      <td>1.7177</td>\n",
              "      <td>0.0150</td>\n",
              "      <td>0.0851</td>\n",
              "      <td>1.9046</td>\n",
              "      <td>-0.0165</td>\n",
              "      <td>0.0221</td>\n",
              "      <td>3</td>\n",
              "    </tr>\n",
              "  </tbody>\n",
              "</table>\n",
              "</div>"
            ],
            "text/plain": [
              "       F1      F2      F3      F4      F5  ...      F9     F10     F11     F12  L\n",
              "0  0.3315  0.2156  0.6802  0.1434  0.6825  ...  0.7961  0.1530  0.5856  0.2573  1\n",
              "1  0.0939  1.0089  0.0365  0.6944  0.0908  ... -0.0130  0.6085  0.0631  0.6597  2\n",
              "2  0.5184  0.2283  0.5300  0.6884  0.7456  ...  0.7678  0.6130  0.6705  0.5202  1\n",
              "3  0.4208  0.6740  0.1651  0.7592  0.1810  ...  0.1635  0.5492  0.2598  0.6455  2\n",
              "4  0.3130  0.6465  0.5908  0.6924  0.7664  ...  0.0851  1.9046 -0.0165  0.0221  3\n",
              "\n",
              "[5 rows x 13 columns]"
            ]
          },
          "metadata": {
            "tags": []
          },
          "execution_count": 6
        }
      ]
    },
    {
      "cell_type": "code",
      "metadata": {
        "colab": {
          "base_uri": "https://localhost:8080/"
        },
        "id": "iieG_OVKKh1s",
        "outputId": "b09eb279-34b3-410e-9122-004808676872"
      },
      "source": [
        "#Number of features in the  training dataset\n",
        "print(\"Lenght of the features in the training dataset\",len(train_data.columns))\n",
        "print(\"Features are :\",train_data.columns)"
      ],
      "execution_count": 8,
      "outputs": [
        {
          "output_type": "stream",
          "text": [
            "Lenght of the features in the training dataset 13\n",
            "Features are : Index(['F1', 'F2', 'F3', 'F4', 'F5', 'F6', 'F7', 'F8', 'F9', 'F10', 'F11',\n",
            "       'F12', 'L'],\n",
            "      dtype='object')\n"
          ],
          "name": "stdout"
        }
      ]
    },
    {
      "cell_type": "code",
      "metadata": {
        "colab": {
          "base_uri": "https://localhost:8080/"
        },
        "id": "eC4RZZ9WLL6q",
        "outputId": "7bb2200b-d07c-48b6-f16e-1ca7a5ff6abc"
      },
      "source": [
        "#Number of features in the  testing dataset\n",
        "print(\"Lenght of the features in the testing dataset\",len(test_data.columns))\n",
        "print(\"Features are :\",test_data.columns)"
      ],
      "execution_count": 9,
      "outputs": [
        {
          "output_type": "stream",
          "text": [
            "Lenght of the features in the testing dataset 13\n",
            "Features are : Index(['F1', 'F2', 'F3', 'F4', 'F5', 'F6', 'F7', 'F8', 'F9', 'F10', 'F11',\n",
            "       'F12', 'L'],\n",
            "      dtype='object')\n"
          ],
          "name": "stdout"
        }
      ]
    },
    {
      "cell_type": "code",
      "metadata": {
        "colab": {
          "base_uri": "https://localhost:8080/"
        },
        "id": "PfYdydFzLm3c",
        "outputId": "07f131fb-b8e0-4f84-ad29-df76214b9f21"
      },
      "source": [
        "#Counts of the rows in each  class in training data\n",
        "train_data['L'].value_counts()"
      ],
      "execution_count": 10,
      "outputs": [
        {
          "output_type": "execute_result",
          "data": {
            "text/plain": [
              "1    343\n",
              "3    341\n",
              "2    316\n",
              "Name: L, dtype: int64"
            ]
          },
          "metadata": {
            "tags": []
          },
          "execution_count": 10
        }
      ]
    },
    {
      "cell_type": "code",
      "metadata": {
        "colab": {
          "base_uri": "https://localhost:8080/"
        },
        "id": "LzQumWmlLxJ7",
        "outputId": "ad49012b-8408-42f6-e8d0-780a521e5e7b"
      },
      "source": [
        "#Counts of the rows in each  class in testing data\n",
        "test_data['L'].value_counts()"
      ],
      "execution_count": 11,
      "outputs": [
        {
          "output_type": "execute_result",
          "data": {
            "text/plain": [
              "3    104\n",
              "2     98\n",
              "1     98\n",
              "Name: L, dtype: int64"
            ]
          },
          "metadata": {
            "tags": []
          },
          "execution_count": 11
        }
      ]
    },
    {
      "cell_type": "code",
      "metadata": {
        "colab": {
          "base_uri": "https://localhost:8080/"
        },
        "id": "895tDA4iL8As",
        "outputId": "5b607779-1ee1-4da1-b202-237643e44d51"
      },
      "source": [
        "from sklearn.utils import shuffle\n",
        "Training_set_I = shuffle(train_data,random_state=45)\n",
        "print(Training_set_I)"
      ],
      "execution_count": 17,
      "outputs": [
        {
          "output_type": "stream",
          "text": [
            "         F1      F2      F3      F4      F5  ...      F9     F10     F11     F12  L\n",
            "726  0.0209  0.7060  0.2470  0.8011  0.3740  ...  0.0461  1.9462 -0.0246  0.0291  3\n",
            "243  0.4689  0.1481  0.7357  0.2329  0.7442  ...  0.8208  0.3054  0.7793  0.1818  1\n",
            "342  1.1561 -0.0618  0.4096  1.0400  0.4179  ...  0.3375  0.6273  0.3995  1.0511  2\n",
            "976  0.3960  0.5710  0.6352  0.8757  0.6999  ...  0.7728  0.9632  0.6477  0.8664  1\n",
            "919  0.4363  0.6118  0.7460  0.6139  0.8352  ... -0.0370  2.0394  0.0433 -0.0515  3\n",
            "..      ...     ...     ...     ...     ...  ...     ...     ...     ...     ... ..\n",
            "544  0.4733  0.5533  0.7878  0.5479  0.9136  ... -0.0787  2.0888  0.0257 -0.0314  3\n",
            "892  1.1344 -0.0328  0.3935  0.4392  0.3808  ...  0.3470  0.3056  0.3493  0.4929  2\n",
            "643  0.1243  0.8552  0.2607  1.2543  0.2224  ...  0.2795  1.4760  0.3078  1.2011  1\n",
            "414  1.0390  0.0757  0.7307  1.0098  0.5982  ...  0.6714  1.0315  0.8457  0.8775  2\n",
            "971  1.1366 -0.0386  0.7026  0.6384  0.4141  ...  0.6124  0.3018  0.7418  0.5917  2\n",
            "\n",
            "[1000 rows x 13 columns]\n"
          ],
          "name": "stdout"
        }
      ]
    },
    {
      "cell_type": "code",
      "metadata": {
        "colab": {
          "base_uri": "https://localhost:8080/",
          "height": 349
        },
        "id": "JpA9V7H0M0k8",
        "outputId": "2baae2ac-42bc-472f-cf16-05c672dffcb8"
      },
      "source": [
        "#Scatter Plot of the dataset features\n",
        "import seaborn as sns\n",
        "import seaborn as sns\n",
        "sns.scatterplot('F1','F10', data=train_data)\n",
        "plt.xlabel('Feature 1')\n",
        "plt.ylabel('Feature 10')\n",
        "plt.title('Scatter Plot of the Features F1 and F10')\n",
        "plt.show()"
      ],
      "execution_count": 20,
      "outputs": [
        {
          "output_type": "stream",
          "text": [
            "/usr/local/lib/python3.7/dist-packages/seaborn/_decorators.py:43: FutureWarning: Pass the following variables as keyword args: x, y. From version 0.12, the only valid positional argument will be `data`, and passing other arguments without an explicit keyword will result in an error or misinterpretation.\n",
            "  FutureWarning\n"
          ],
          "name": "stderr"
        },
        {
          "output_type": "display_data",
          "data": {
            "image/png": "[encoded data removed]",
            "text/plain": [
              "<Figure size 432x288 with 1 Axes>"
            ]
          },
          "metadata": {
            "tags": [],
            "needs_background": "light"
          }
        }
      ]
    },
    {
      "cell_type": "markdown",
      "metadata": {
        "id": "FoTb9KEMOaxn"
      },
      "source": [
        "# TASK 3"
      ]
    },
    {
      "cell_type": "code",
      "metadata": {
        "colab": {
          "base_uri": "https://localhost:8080/"
        },
        "id": "ukkIOAiQNaP5",
        "outputId": "b8d08d1d-4d68-425e-8b4b-590fd690885b"
      },
      "source": [
        "# Take out the last 300 rows from Training_set_I and save them as the validation set.\n",
        "print(len(Training_set_I))\n",
        "validation_set = Training_set_I.iloc[-300:,:]\n",
        "print(\"Length of validation set\",len(validation_set))\n",
        "print(\"Print the validation set\",validation_set)\n",
        "print(\"\\n\\n\\n\")\n",
        "# Save the rest of rows in Training_set_I as the smaller training set (Training set II).\n",
        "print(len(Training_set_I))\n",
        "Training_set_II = Training_set_I.iloc[:-300,:]\n",
        "print(\"Length of validation set\",len(Training_set_II))\n",
        "print(\"Print the validation set\",Training_set_II)"
      ],
      "execution_count": 25,
      "outputs": [
        {
          "output_type": "stream",
          "text": [
            "1000\n",
            "Length of validation set 300\n",
            "Print the validation set          F1      F2      F3      F4      F5  ...      F9     F10     F11     F12  L\n",
            "943  0.5786  0.0495  0.8336  0.1201  0.9328  ...  1.9387  0.0673  0.0027 -0.0028  3\n",
            "252 -0.0495  0.0597  0.0599  0.1809  0.0112  ...  0.0763 -0.0920  0.0532 -0.0637  3\n",
            "450  1.1035  0.0035  0.5619  0.1930  0.4270  ...  0.4615  0.1391  0.5809  0.1712  2\n",
            "757  0.7813  0.2707  1.1661  0.1809  1.3402  ...  2.0146 -0.0100  0.0494 -0.0586  3\n",
            "586  0.7918  0.3077  0.5134  0.9919  0.2700  ...  0.2535  0.7352  0.4208  1.0961  2\n",
            "..      ...     ...     ...     ...     ...  ...     ...     ...     ...     ... ..\n",
            "544  0.4733  0.5533  0.7878  0.5479  0.9136  ... -0.0787  2.0888  0.0257 -0.0314  3\n",
            "892  1.1344 -0.0328  0.3935  0.4392  0.3808  ...  0.3470  0.3056  0.3493  0.4929  2\n",
            "643  0.1243  0.8552  0.2607  1.2543  0.2224  ...  0.2795  1.4760  0.3078  1.2011  1\n",
            "414  1.0390  0.0757  0.7307  1.0098  0.5982  ...  0.6714  1.0315  0.8457  0.8775  2\n",
            "971  1.1366 -0.0386  0.7026  0.6384  0.4141  ...  0.6124  0.3018  0.7418  0.5917  2\n",
            "\n",
            "[300 rows x 13 columns]\n",
            "\n",
            "\n",
            "\n",
            "\n",
            "1000\n",
            "Length of validation set 700\n",
            "Print the validation set          F1      F2      F3      F4      F5  ...      F9     F10     F11     F12  L\n",
            "726  0.0209  0.7060  0.2470  0.8011  0.3740  ...  0.0461  1.9462 -0.0246  0.0291  3\n",
            "243  0.4689  0.1481  0.7357  0.2329  0.7442  ...  0.8208  0.3054  0.7793  0.1818  1\n",
            "342  1.1561 -0.0618  0.4096  1.0400  0.4179  ...  0.3375  0.6273  0.3995  1.0511  2\n",
            "976  0.3960  0.5710  0.6352  0.8757  0.6999  ...  0.7728  0.9632  0.6477  0.8664  1\n",
            "919  0.4363  0.6118  0.7460  0.6139  0.8352  ... -0.0370  2.0394  0.0433 -0.0515  3\n",
            "..      ...     ...     ...     ...     ...  ...     ...     ...     ...     ... ..\n",
            "105  0.5268  0.3336  0.6997  0.4976  0.9724  ...  0.0106  1.9838 -0.0213  0.0246  3\n",
            "494  0.2429  0.8192  0.5522  0.8254  0.6584  ...  0.1117  1.8712  0.0201  1.7049  3\n",
            "356  0.2243  0.6124  0.4186  0.7552  0.5787  ... -0.0811  2.0926 -0.0597  0.0701  3\n",
            "682  0.7746  0.2773  1.2625  0.3768  1.3682  ...  1.3622  0.5502  1.2441  0.4004  1\n",
            "193 -0.0398  0.6514  0.1588  0.7603  0.2672  ...  0.0189  1.9782 -0.0562  0.0684  3\n",
            "\n",
            "[700 rows x 13 columns]\n"
          ],
          "name": "stdout"
        }
      ]
    },
    {
      "cell_type": "code",
      "metadata": {
        "id": "Lo-f5xSYPY3L"
      },
      "source": [
        ""
      ],
      "execution_count": null,
      "outputs": []
    }
  ]
}