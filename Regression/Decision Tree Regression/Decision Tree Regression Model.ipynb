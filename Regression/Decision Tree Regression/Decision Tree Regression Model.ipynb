{
 "cells": [
  {
   "cell_type": "code",
   "execution_count": 1,
   "id": "continent-editor",
   "metadata": {},
   "outputs": [],
   "source": [
    "#Import all the libraries\n",
    "import pandas as pd\n",
    "import numpy as np\n",
    "import matplotlib.pyplot as plt"
   ]
  },
  {
   "cell_type": "markdown",
   "id": "specific-messaging",
   "metadata": {},
   "source": [
    "# Import the datasets"
   ]
  },
  {
   "cell_type": "code",
   "execution_count": 2,
   "id": "pleased-disco",
   "metadata": {},
   "outputs": [],
   "source": [
    "dataset = pd.read_csv(\"Position_Salaries.csv\")\n",
    "X = dataset.iloc[:,1:-1].values\n",
    "y= dataset.iloc[:,-1].values"
   ]
  },
  {
   "cell_type": "code",
   "execution_count": 3,
   "id": "attempted-degree",
   "metadata": {},
   "outputs": [],
   "source": [
    "#Train the Decision Tree Regression on the dataset"
   ]
  },
  {
   "cell_type": "code",
   "execution_count": 4,
   "id": "synthetic-manner",
   "metadata": {},
   "outputs": [
    {
     "data": {
      "text/plain": [
       "DecisionTreeRegressor(random_state=0)"
      ]
     },
     "execution_count": 4,
     "metadata": {},
     "output_type": "execute_result"
    }
   ],
   "source": [
    "from sklearn.tree import DecisionTreeRegressor\n",
    "dtr = DecisionTreeRegressor(random_state=0)\n",
    "dtr.fit(X,y)"
   ]
  },
  {
   "cell_type": "code",
   "execution_count": 5,
   "id": "developmental-baseball",
   "metadata": {},
   "outputs": [
    {
     "data": {
      "text/plain": [
       "array([150000.])"
      ]
     },
     "execution_count": 5,
     "metadata": {},
     "output_type": "execute_result"
    }
   ],
   "source": [
    "#Predicting the new result\n",
    "dtr.predict([[6.5]])"
   ]
  },
  {
   "cell_type": "code",
   "execution_count": 6,
   "id": "annual-tournament",
   "metadata": {},
   "outputs": [
    {
     "data": {
      "image/png": "[encoded data removed]",
      "text/plain": [
       "<Figure size 432x288 with 1 Axes>"
      ]
     },
     "metadata": {
      "needs_background": "light"
     },
     "output_type": "display_data"
    }
   ],
   "source": [
    "#Visualize the result of the Decision Tree in High Resolution\n",
    "X_grid =np.arange(min(X),max(X),0.1)\n",
    "X_grid = X_grid.reshape((len(X_grid),1))\n",
    "plt.scatter(X,y,color='red')\n",
    "plt.plot(X_grid,dtr.predict(X_grid),color='blue')\n",
    "plt.title(\"Truth or Bluff(Decision Tree Regression)\")\n",
    "plt.xlabel(\"Position Levels\")\n",
    "plt.ylabel(\"Salary\")\n",
    "plt.show()"
   ]
  },
  {
   "cell_type": "code",
   "execution_count": null,
   "id": "regular-geology",
   "metadata": {},
   "outputs": [],
   "source": []
  }
 ],
 "metadata": {
  "kernelspec": {
   "display_name": "Python 3",
   "language": "python",
   "name": "python3"
  },
  "language_info": {
   "codemirror_mode": {
    "name": "ipython",
    "version": 3
   },
   "file_extension": ".py",
   "mimetype": "text/x-python",
   "name": "python",
   "nbconvert_exporter": "python",
   "pygments_lexer": "ipython3",
   "version": "3.6.12"
  }
 },
 "nbformat": 4,
 "nbformat_minor": 5
}
