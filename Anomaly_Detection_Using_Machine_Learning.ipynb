{
  "nbformat": 4,
  "nbformat_minor": 0,
  "metadata": {
    "colab": {
      "name": "Anomaly Detection Using Machine Learning.ipynb",
      "provenance": [],
      "authorship_tag": "ABX9TyNK9fg1xdkTf51PJH3xsRPp",
      "include_colab_link": true
    },
    "kernelspec": {
      "name": "python3",
      "display_name": "Python 3"
    },
    "language_info": {
      "name": "python"
    }
  },
  "cells": [
    {
      "cell_type": "markdown",
      "metadata": {
        "id": "view-in-github",
        "colab_type": "text"
      },
      "source": [
        "<a href=\"https://colab.research.google.com/github/AVI18794/Machine-Learning/blob/main/Anomaly_Detection_Using_Machine_Learning.ipynb\" target=\"_parent\"><img src=\"https://colab.research.google.com/assets/colab-badge.svg\" alt=\"Open In Colab\"/></a>"
      ]
    },
    {
      "cell_type": "code",
      "metadata": {
        "id": "FsSGyEa0gYEt"
      },
      "source": [
        ""
      ],
      "execution_count": null,
      "outputs": []
    },
    {
      "cell_type": "markdown",
      "metadata": {
        "id": "qL1KKnfUggtt"
      },
      "source": [
        "### The presence of outliers in the dataset can result in the poor fit and lower predictive power of the model.\n",
        "### Identifying and removing the outliers from the dataset is a tedious and challenging task with simple stats for majority of ML algorithms with large number of input variables.\n"
      ]
    },
    {
      "cell_type": "markdown",
      "metadata": {
        "id": "bV0t98ojibMC"
      },
      "source": [
        "### Outliers:- Outliers are observations in the dataset that doesn't fit in some way.The most common or familiar type of outlier is the observations that are far from the rest of the observations or the center of mass of observations.\n",
        "\n",
        "### It can be important to identify and remove outliers from data when training machine learning algorithms for predictive modelling.\n",
        "### Outliers can skew statistical measures and data distributions,providing a misleading representation of the underlying data and relationships.\n",
        "### Removing outliers from training data before modeling can result in a better fit of the data and in turn more skillful predictions.\n",
        "### There are various types of automatic model-based methods for identifying outliers in the input data.\n"
      ]
    },
    {
      "cell_type": "code",
      "metadata": {
        "id": "n2qlNlk3iK6o"
      },
      "source": [
        "#Load and summarize the dataset\n",
        "import pandas as pd\n",
        "import sklearn\n",
        "from sklearn.model_selection import train_test_split\n",
        "#load the dataset\n",
        "url = 'https://raw.githubusercontent.com/jbrownlee/Datasets/master/housing.csv'\n",
        "df = pd.read_csv(url, header=None)"
      ],
      "execution_count": 8,
      "outputs": []
    },
    {
      "cell_type": "code",
      "metadata": {
        "id": "Md87B9Z6lkjv"
      },
      "source": [
        "data = df.values"
      ],
      "execution_count": 9,
      "outputs": []
    },
    {
      "cell_type": "code",
      "metadata": {
        "id": "AsUfi_XmkwFK"
      },
      "source": [
        "#Split the data into inputs and outputs\n",
        "X,y = data[:,:-1],data[:,-1]\n"
      ],
      "execution_count": 10,
      "outputs": []
    },
    {
      "cell_type": "code",
      "metadata": {
        "colab": {
          "base_uri": "https://localhost:8080/"
        },
        "id": "5kEqDENfk5V_",
        "outputId": "ea53ea73-7002-45c7-a555-04c47386fd85"
      },
      "source": [
        "#Print the shape of the data\n",
        "X.shape,y.shape"
      ],
      "execution_count": 11,
      "outputs": [
        {
          "output_type": "execute_result",
          "data": {
            "text/plain": [
              "((506, 13), (506,))"
            ]
          },
          "metadata": {
            "tags": []
          },
          "execution_count": 11
        }
      ]
    },
    {
      "cell_type": "code",
      "metadata": {
        "colab": {
          "base_uri": "https://localhost:8080/"
        },
        "id": "fTqnq8gxlwwS",
        "outputId": "74c69d19-ebb3-41bf-c82a-9287cb9b2790"
      },
      "source": [
        "#Split the dataset into train and test\n",
        "X_train,X_test,y_train,y_test = train_test_split(X,y,test_size=0.25,random_state=1)\n",
        "#Check the shape of the train and test sets\n",
        "print(X_train.shape,X_test.shape,y_train.shape,y_test.shape)\n"
      ],
      "execution_count": 21,
      "outputs": [
        {
          "output_type": "stream",
          "text": [
            "(379, 13) (127, 13) (379,) (127,)\n"
          ],
          "name": "stdout"
        }
      ]
    },
    {
      "cell_type": "code",
      "metadata": {
        "id": "hRzK_Q33mKXp"
      },
      "source": [
        "#Evaluate the models on the raw dataset\n",
        "from sklearn.linear_model import LinearRegression\n",
        "from sklearn.metrics import mean_absolute_error\n",
        "model = LinearRegression()\n",
        "model.fit(X_train,y_train)\n",
        "#Evaluate the performance of the model\n",
        "y_pred = model.predict(X_test)"
      ],
      "execution_count": 22,
      "outputs": []
    },
    {
      "cell_type": "code",
      "metadata": {
        "colab": {
          "base_uri": "https://localhost:8080/"
        },
        "id": "apsObRAGmsod",
        "outputId": "32516daf-30e7-42f0-8b9a-d62123453043"
      },
      "source": [
        "#Evaluate the predictions\n",
        "mean_absolute_errorr = mean_absolute_error(y_test,y_pred)\n",
        "print(\"MAE : %.3f\" % mean_absolute_errorr)\n"
      ],
      "execution_count": 23,
      "outputs": [
        {
          "output_type": "stream",
          "text": [
            "MAE : 3.575\n"
          ],
          "name": "stdout"
        }
      ]
    },
    {
      "cell_type": "code",
      "metadata": {
        "id": "cACQ3Jaom_Uc"
      },
      "source": [
        "#Now try removing the outliers from the datasets\n"
      ],
      "execution_count": null,
      "outputs": []
    }
  ]
}