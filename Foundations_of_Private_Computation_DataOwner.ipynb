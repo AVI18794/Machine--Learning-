{
  "nbformat": 4,
  "nbformat_minor": 0,
  "metadata": {
    "colab": {
      "name": "Foundations of Private Computation DataOwner.ipynb",
      "provenance": [],
      "authorship_tag": "ABX9TyPTV45A4DUmxcSaeKmlRFod",
      "include_colab_link": true
    },
    "kernelspec": {
      "name": "python3",
      "display_name": "Python 3"
    },
    "language_info": {
      "name": "python"
    }
  },
  "cells": [
    {
      "cell_type": "markdown",
      "metadata": {
        "id": "view-in-github",
        "colab_type": "text"
      },
      "source": [
        "<a href=\"https://colab.research.google.com/github/AVI18794/Machine-Learning/blob/main/Foundations_of_Private_Computation_DataOwner.ipynb\" target=\"_parent\"><img src=\"https://colab.research.google.com/assets/colab-badge.svg\" alt=\"Open In Colab\"/></a>"
      ]
    },
    {
      "cell_type": "markdown",
      "metadata": {
        "id": "xfifGQfRjAvu"
      },
      "source": [
        "Federated ML is a set-up for training ML algorithms on data without the owner having to share,transfer or expose their data with the developer and the service provider.\n",
        "\n",
        "*   Cross device FL\n",
        "*   Cross - Silos FL\n",
        "\n"
      ]
    },
    {
      "cell_type": "code",
      "metadata": {
        "id": "f56noBUkDMkN"
      },
      "source": [
        "import syft as sy"
      ],
      "execution_count": 3,
      "outputs": []
    },
    {
      "cell_type": "code",
      "metadata": {
        "colab": {
          "base_uri": "https://localhost:8080/",
          "height": 534
        },
        "id": "XLfiISjLD8jl",
        "outputId": "ecb28079-578d-4506-9470-4591081345a0"
      },
      "source": [
        "duet = sy.launch_duet()"
      ],
      "execution_count": 4,
      "outputs": [
        {
          "output_type": "display_data",
          "data": {
            "image/png": "[encoded data removed]",
            "text/plain": [
              "<IPython.core.display.Image object>"
            ]
          },
          "metadata": {
            "tags": [],
            "image/png": {
              "width": 400,
              "unconfined": true
            }
          }
        },
        {
          "output_type": "stream",
          "text": [
            "🎤  🎸  ♪♪♪ Starting Duet ♫♫♫  🎻  🎹\n",
            "\n",
            "♫♫♫ >\u001b[93m DISCLAIMER\u001b[0m: \u001b[1mDuet is an experimental feature currently in beta.\n",
            "♫♫♫ > Use at your own risk.\n",
            "\u001b[0m\n",
            "\u001b[1m\n",
            "    > ❤️ \u001b[91mLove\u001b[0m \u001b[92mDuet\u001b[0m? \u001b[93mPlease\u001b[0m \u001b[94mconsider\u001b[0m \u001b[95msupporting\u001b[0m \u001b[91mour\u001b[0m \u001b[93mcommunity!\u001b[0m\n",
            "    > https://github.com/sponsors/OpenMined\u001b[1m\n",
            "\n",
            "\n",
            "♫♫♫ > \u001b[92mDONE!\u001b[0m\n",
            "♫♫♫ > Duet Server ID: \u001b[1mffcf0893452acd7380579e2f7472391b\u001b[0m\n",
            "\n",
            "♫♫♫ > \u001b[95mSTEP 1:\u001b[0m Send the following code to your Duet Partner!\n",
            "\n",
            "import syft as sy\n",
            "duet = sy.duet(\"\u001b[1mffcf0893452acd7380579e2f7472391b\u001b[0m\")\n",
            "\n",
            "♫♫♫ > \u001b[95mSTEP 2:\u001b[0m Ask your partner for their Client ID and enter it below!\n",
            "♫♫♫ > Duet Partner's Client ID: 815bede8e0883e8172693f56b41723f0\n",
            "\n",
            "♫♫♫ > Connecting...\n",
            "\n",
            "♫♫♫ > \u001b[92mCONNECTED!\u001b[0m\n",
            "\n"
          ],
          "name": "stdout"
        }
      ]
    },
    {
      "cell_type": "code",
      "metadata": {
        "id": "qhfiLZxvD_LO"
      },
      "source": [
        "# Part 2 :- Upload data to the duet server"
      ],
      "execution_count": 5,
      "outputs": []
    },
    {
      "cell_type": "code",
      "metadata": {
        "id": "z3ZN0QrJHjia"
      },
      "source": [
        "import torch as th"
      ],
      "execution_count": 6,
      "outputs": []
    },
    {
      "cell_type": "code",
      "metadata": {
        "id": "UFl-ZlLkHlOm"
      },
      "source": [
        "#Age of 6 people\n",
        "age_data = th.tensor([14,115,76,56,46,34])"
      ],
      "execution_count": 7,
      "outputs": []
    },
    {
      "cell_type": "code",
      "metadata": {
        "id": "bdKgWHovHxGa"
      },
      "source": [
        "age_data = age_data.tag('Ages')"
      ],
      "execution_count": 8,
      "outputs": []
    },
    {
      "cell_type": "code",
      "metadata": {
        "id": "6qZgd3F8H6sv"
      },
      "source": [
        "age_data = age_data.describe(\"This is a list of ages of 6 people\")"
      ],
      "execution_count": 10,
      "outputs": []
    },
    {
      "cell_type": "code",
      "metadata": {
        "id": "mE0FD6VdIKgk"
      },
      "source": [
        "#Finally uploading the data to the duet server to be used by the data scientists\n",
        "age_data_pointer = age_data.send(duet,pointable=True)"
      ],
      "execution_count": 14,
      "outputs": []
    },
    {
      "cell_type": "code",
      "metadata": {
        "colab": {
          "base_uri": "https://localhost:8080/"
        },
        "id": "d-ZEDlFCIilF",
        "outputId": "eaec3198-a7c1-4428-a78e-f967288ec852"
      },
      "source": [
        "#To check the uploaded data \n",
        "duet.store"
      ],
      "execution_count": 15,
      "outputs": [
        {
          "output_type": "execute_result",
          "data": {
            "text/plain": [
              "[<syft.proxy.torch.TensorPointer object at 0x7f95878461d0>, <syft.proxy.torch.TensorPointer object at 0x7f9587846410>]"
            ]
          },
          "metadata": {
            "tags": []
          },
          "execution_count": 15
        }
      ]
    },
    {
      "cell_type": "code",
      "metadata": {
        "colab": {
          "base_uri": "https://localhost:8080/",
          "height": 140
        },
        "id": "H9GK1j2oIohM",
        "outputId": "6bcc35a7-e40f-41e4-89d5-573ba4f02895"
      },
      "source": [
        "duet.store.pandas"
      ],
      "execution_count": 16,
      "outputs": [
        {
          "output_type": "execute_result",
          "data": {
            "text/html": [
              "<div>\n",
              "<style scoped>\n",
              "    .dataframe tbody tr th:only-of-type {\n",
              "        vertical-align: middle;\n",
              "    }\n",
              "\n",
              "    .dataframe tbody tr th {\n",
              "        vertical-align: top;\n",
              "    }\n",
              "\n",
              "    .dataframe thead th {\n",
              "        text-align: right;\n",
              "    }\n",
              "</style>\n",
              "<table border=\"1\" class=\"dataframe\">\n",
              "  <thead>\n",
              "    <tr style=\"text-align: right;\">\n",
              "      <th></th>\n",
              "      <th>ID</th>\n",
              "      <th>Tags</th>\n",
              "      <th>Description</th>\n",
              "      <th>object_type</th>\n",
              "    </tr>\n",
              "  </thead>\n",
              "  <tbody>\n",
              "    <tr>\n",
              "      <th>0</th>\n",
              "      <td>&lt;UID: 02e39bc430ad4d77a92c8be685a3c3b5&gt;</td>\n",
              "      <td>[Ages]</td>\n",
              "      <td>This is a list of ages of 6 people</td>\n",
              "      <td>&lt;class 'torch.Tensor'&gt;</td>\n",
              "    </tr>\n",
              "    <tr>\n",
              "      <th>1</th>\n",
              "      <td>&lt;UID: bc164319b3d34cf184766f47578f45fc&gt;</td>\n",
              "      <td>[Ages]</td>\n",
              "      <td>This is a list of ages of 6 people</td>\n",
              "      <td>&lt;class 'torch.Tensor'&gt;</td>\n",
              "    </tr>\n",
              "  </tbody>\n",
              "</table>\n",
              "</div>"
            ],
            "text/plain": [
              "                                        ID  ...             object_type\n",
              "0  <UID: 02e39bc430ad4d77a92c8be685a3c3b5>  ...  <class 'torch.Tensor'>\n",
              "1  <UID: bc164319b3d34cf184766f47578f45fc>  ...  <class 'torch.Tensor'>\n",
              "\n",
              "[2 rows x 4 columns]"
            ]
          },
          "metadata": {
            "tags": []
          },
          "execution_count": 16
        }
      ]
    },
    {
      "cell_type": "code",
      "metadata": {
        "colab": {
          "base_uri": "https://localhost:8080/",
          "height": 198
        },
        "id": "DsWPT0HAIsGZ",
        "outputId": "f30c0505-f92a-413e-85aa-59194db5141f"
      },
      "source": [
        "#Check for the request\n",
        "duet.requests.pandas"
      ],
      "execution_count": 17,
      "outputs": [
        {
          "output_type": "execute_result",
          "data": {
            "text/html": [
              "<div>\n",
              "<style scoped>\n",
              "    .dataframe tbody tr th:only-of-type {\n",
              "        vertical-align: middle;\n",
              "    }\n",
              "\n",
              "    .dataframe tbody tr th {\n",
              "        vertical-align: top;\n",
              "    }\n",
              "\n",
              "    .dataframe thead th {\n",
              "        text-align: right;\n",
              "    }\n",
              "</style>\n",
              "<table border=\"1\" class=\"dataframe\">\n",
              "  <thead>\n",
              "    <tr style=\"text-align: right;\">\n",
              "      <th></th>\n",
              "      <th>Requested Object's tags</th>\n",
              "      <th>Reason</th>\n",
              "      <th>Request ID</th>\n",
              "      <th>Requested Object's ID</th>\n",
              "      <th>Requested Object's type</th>\n",
              "    </tr>\n",
              "  </thead>\n",
              "  <tbody>\n",
              "    <tr>\n",
              "      <th>0</th>\n",
              "      <td>[Ages, float, mean]</td>\n",
              "      <td>Just to get the average age of the population</td>\n",
              "      <td>&lt;UID: ac6726f201f54523a443cbaa2e4cc68a&gt;</td>\n",
              "      <td>&lt;UID: 42f5c1dfe03048f6812e01b90c0c2ec3&gt;</td>\n",
              "      <td></td>\n",
              "    </tr>\n",
              "  </tbody>\n",
              "</table>\n",
              "</div>"
            ],
            "text/plain": [
              "  Requested Object's tags  ... Requested Object's type\n",
              "0     [Ages, float, mean]  ...                        \n",
              "\n",
              "[1 rows x 5 columns]"
            ]
          },
          "metadata": {
            "tags": []
          },
          "execution_count": 17
        }
      ]
    },
    {
      "cell_type": "code",
      "metadata": {
        "colab": {
          "base_uri": "https://localhost:8080/",
          "height": 35
        },
        "id": "K5yLaRrvKAY4",
        "outputId": "eb90e62a-a8f1-4e7c-ea31-52e2f7e464da"
      },
      "source": [
        "duet.requests[0].request_description"
      ],
      "execution_count": 19,
      "outputs": [
        {
          "output_type": "execute_result",
          "data": {
            "application/vnd.google.colaboratory.intrinsic+json": {
              "type": "string"
            },
            "text/plain": [
              "'Just to get the average age of the population'"
            ]
          },
          "metadata": {
            "tags": []
          },
          "execution_count": 19
        }
      ]
    },
    {
      "cell_type": "code",
      "metadata": {
        "id": "2vae8FAkKHcO"
      },
      "source": [
        "duet.requests[0].approve()"
      ],
      "execution_count": 20,
      "outputs": []
    },
    {
      "cell_type": "code",
      "metadata": {
        "colab": {
          "base_uri": "https://localhost:8080/"
        },
        "id": "OBDQhd16KPV4",
        "outputId": "e9c72ffb-c1ed-41d2-90eb-6a8550fd2631"
      },
      "source": [
        "duet.requests"
      ],
      "execution_count": 21,
      "outputs": [
        {
          "output_type": "execute_result",
          "data": {
            "text/plain": [
              "[]"
            ]
          },
          "metadata": {
            "tags": []
          },
          "execution_count": 21
        }
      ]
    },
    {
      "cell_type": "code",
      "metadata": {
        "id": "V08Qh8GWKTFN"
      },
      "source": [
        "duet.requests.add_handler(action='accept')"
      ],
      "execution_count": 25,
      "outputs": []
    },
    {
      "cell_type": "markdown",
      "metadata": {
        "id": "8uv_rU4XQUYI"
      },
      "source": [
        "# Remote Machine Learning"
      ]
    },
    {
      "cell_type": "code",
      "metadata": {
        "colab": {
          "base_uri": "https://localhost:8080/"
        },
        "id": "QVSQwebW1oL0",
        "outputId": "d6251c69-9d0d-4cc2-b831-c251ce272dc0"
      },
      "source": [
        "!pip install git+https://github.com/OpenMined/PySyft@dev#egg=syft"
      ],
      "execution_count": 1,
      "outputs": [
        {
          "output_type": "stream",
          "text": [
            "Collecting syft\n",
            "  Cloning https://github.com/OpenMined/PySyft (to revision dev) to /tmp/pip-install-l_s1zw6q/syft\n",
            "  Running command git clone -q https://github.com/OpenMined/PySyft /tmp/pip-install-l_s1zw6q/syft\n",
            "Requirement already satisfied: aiortc in /usr/local/lib/python3.7/dist-packages (from syft) (1.2.0)\n",
            "Requirement already satisfied: dataclasses in /usr/local/lib/python3.7/dist-packages (from syft) (0.6)\n",
            "Requirement already satisfied: dpcontracts in /usr/local/lib/python3.7/dist-packages (from syft) (0.6.0)\n",
            "Requirement already satisfied: flask in /usr/local/lib/python3.7/dist-packages (from syft) (1.1.2)\n",
            "Requirement already satisfied: forbiddenfruit>=0.1.3 in /usr/local/lib/python3.7/dist-packages (from syft) (0.1.4)\n",
            "Requirement already satisfied: loguru in /usr/local/lib/python3.7/dist-packages (from syft) (0.5.3)\n",
            "Requirement already satisfied: nest_asyncio in /usr/local/lib/python3.7/dist-packages (from syft) (1.5.1)\n",
            "Requirement already satisfied: packaging in /usr/local/lib/python3.7/dist-packages (from syft) (20.9)\n",
            "Requirement already satisfied: pandas in /usr/local/lib/python3.7/dist-packages (from syft) (1.1.5)\n",
            "Requirement already satisfied: protobuf in /usr/local/lib/python3.7/dist-packages (from syft) (3.12.4)\n",
            "Collecting PyJWT==1.7.1\n",
            "  Downloading https://files.pythonhosted.org/packages/87/8b/6a9f14b5f781697e51259d81657e6048fd31a113229cf346880bb7545565/PyJWT-1.7.1-py2.py3-none-any.whl\n",
            "Requirement already satisfied: PyNaCl in /usr/local/lib/python3.7/dist-packages (from syft) (1.4.0)\n",
            "Requirement already satisfied: requests in /usr/local/lib/python3.7/dist-packages (from syft) (2.23.0)\n",
            "Requirement already satisfied: sqlitedict in /usr/local/lib/python3.7/dist-packages (from syft) (1.7.0)\n",
            "Collecting syft-proto\n",
            "\u001b[?25l  Downloading https://files.pythonhosted.org/packages/da/88/67edf7836ac4eab723416933cd663c4f87753d3ff31337f91701c0b75474/syft_proto-0.5.3-py3-none-any.whl (66kB)\n",
            "\u001b[K     |████████████████████████████████| 71kB 3.1MB/s \n",
            "\u001b[?25hCollecting torch<=1.8.0,>=1.4.0\n",
            "\u001b[?25l  Downloading https://files.pythonhosted.org/packages/94/99/5861239a6e1ffe66e120f114a4d67e96e5c4b17c1a785dfc6ca6769585fc/torch-1.8.0-cp37-cp37m-manylinux1_x86_64.whl (735.5MB)\n",
            "\u001b[K     |████████████████████████████████| 735.5MB 21kB/s \n",
            "\u001b[?25hCollecting torchvision<=0.9,>=0.5\n",
            "\u001b[?25l  Downloading https://files.pythonhosted.org/packages/6f/6a/4e8d7c897f24a6aa9d5e7c23a157b52084ccd43d1b6019603361d2136dde/torchvision-0.9.0-cp37-cp37m-manylinux1_x86_64.whl (17.3MB)\n",
            "\u001b[K     |████████████████████████████████| 17.3MB 251kB/s \n",
            "\u001b[?25hRequirement already satisfied: typeguard in /usr/local/lib/python3.7/dist-packages (from syft) (2.7.1)\n",
            "Requirement already satisfied: typing-extensions in /usr/local/lib/python3.7/dist-packages (from syft) (3.7.4.3)\n",
            "Collecting websocket-client\n",
            "\u001b[?25l  Downloading https://files.pythonhosted.org/packages/08/33/80e0d4f60e84a1ddd9a03f340be1065a2a363c47ce65c4bd3bae65ce9631/websocket_client-0.58.0-py2.py3-none-any.whl (61kB)\n",
            "\u001b[K     |████████████████████████████████| 61kB 5.8MB/s \n",
            "\u001b[?25hRequirement already satisfied: pylibsrtp>=0.5.6 in /usr/local/lib/python3.7/dist-packages (from aiortc->syft) (0.6.8)\n",
            "Requirement already satisfied: crc32c>=2.1 in /usr/local/lib/python3.7/dist-packages (from aiortc->syft) (2.2)\n",
            "Requirement already satisfied: av<9.0.0,>=8.0.0 in /usr/local/lib/python3.7/dist-packages (from aiortc->syft) (8.0.3)\n",
            "Requirement already satisfied: pyee>=6.0.0 in /usr/local/lib/python3.7/dist-packages (from aiortc->syft) (8.1.0)\n",
            "Requirement already satisfied: cryptography>=2.2 in /usr/local/lib/python3.7/dist-packages (from aiortc->syft) (3.4.7)\n",
            "Requirement already satisfied: cffi>=1.0.0 in /usr/local/lib/python3.7/dist-packages (from aiortc->syft) (1.14.5)\n",
            "Requirement already satisfied: aioice<0.8.0,>=0.7.5 in /usr/local/lib/python3.7/dist-packages (from aiortc->syft) (0.7.5)\n",
            "Requirement already satisfied: click>=5.1 in /usr/local/lib/python3.7/dist-packages (from flask->syft) (7.1.2)\n",
            "Requirement already satisfied: Jinja2>=2.10.1 in /usr/local/lib/python3.7/dist-packages (from flask->syft) (2.11.3)\n",
            "Requirement already satisfied: itsdangerous>=0.24 in /usr/local/lib/python3.7/dist-packages (from flask->syft) (1.1.0)\n",
            "Requirement already satisfied: Werkzeug>=0.15 in /usr/local/lib/python3.7/dist-packages (from flask->syft) (1.0.1)\n",
            "Requirement already satisfied: pyparsing>=2.0.2 in /usr/local/lib/python3.7/dist-packages (from packaging->syft) (2.4.7)\n",
            "Requirement already satisfied: python-dateutil>=2.7.3 in /usr/local/lib/python3.7/dist-packages (from pandas->syft) (2.8.1)\n",
            "Requirement already satisfied: pytz>=2017.2 in /usr/local/lib/python3.7/dist-packages (from pandas->syft) (2018.9)\n",
            "Requirement already satisfied: numpy>=1.15.4 in /usr/local/lib/python3.7/dist-packages (from pandas->syft) (1.19.5)\n",
            "Requirement already satisfied: setuptools in /usr/local/lib/python3.7/dist-packages (from protobuf->syft) (54.2.0)\n",
            "Requirement already satisfied: six>=1.9 in /usr/local/lib/python3.7/dist-packages (from protobuf->syft) (1.15.0)\n",
            "Requirement already satisfied: idna<3,>=2.5 in /usr/local/lib/python3.7/dist-packages (from requests->syft) (2.10)\n",
            "Requirement already satisfied: urllib3!=1.25.0,!=1.25.1,<1.26,>=1.21.1 in /usr/local/lib/python3.7/dist-packages (from requests->syft) (1.24.3)\n",
            "Requirement already satisfied: certifi>=2017.4.17 in /usr/local/lib/python3.7/dist-packages (from requests->syft) (2020.12.5)\n",
            "Requirement already satisfied: chardet<4,>=3.0.2 in /usr/local/lib/python3.7/dist-packages (from requests->syft) (3.0.4)\n",
            "Requirement already satisfied: pillow>=4.1.1 in /usr/local/lib/python3.7/dist-packages (from torchvision<=0.9,>=0.5->syft) (7.1.2)\n",
            "Requirement already satisfied: pycparser in /usr/local/lib/python3.7/dist-packages (from cffi>=1.0.0->aiortc->syft) (2.20)\n",
            "Requirement already satisfied: dnspython in /usr/local/lib/python3.7/dist-packages (from aioice<0.8.0,>=0.7.5->aiortc->syft) (2.1.0)\n",
            "Requirement already satisfied: netifaces in /usr/local/lib/python3.7/dist-packages (from aioice<0.8.0,>=0.7.5->aiortc->syft) (0.10.9)\n",
            "Requirement already satisfied: MarkupSafe>=0.23 in /usr/local/lib/python3.7/dist-packages (from Jinja2>=2.10.1->flask->syft) (1.1.1)\n",
            "Building wheels for collected packages: syft\n",
            "  Building wheel for syft (setup.py) ... \u001b[?25l\u001b[?25hdone\n",
            "  Created wheel for syft: filename=syft-0.3.0.post0.dev1283+g1981da2a9-py2.py3-none-any.whl size=496251 sha256=44a418f2c0f6477604278e600394d517f6bc9d6c4d950b72543b8679d13d410f\n",
            "  Stored in directory: /tmp/pip-ephem-wheel-cache-wpqaj1p7/wheels/d9/e8/ec/deae65980ea36f9a01afe1838c0a59aae5774a6233b22b6eaf\n",
            "Successfully built syft\n",
            "\u001b[31mERROR: torchtext 0.9.1 has requirement torch==1.8.1, but you'll have torch 1.8.0 which is incompatible.\u001b[0m\n",
            "Installing collected packages: PyJWT, syft-proto, torch, torchvision, websocket-client, syft\n",
            "  Found existing installation: torch 1.8.1+cu101\n",
            "    Uninstalling torch-1.8.1+cu101:\n",
            "      Successfully uninstalled torch-1.8.1+cu101\n",
            "  Found existing installation: torchvision 0.9.1+cu101\n",
            "    Uninstalling torchvision-0.9.1+cu101:\n",
            "      Successfully uninstalled torchvision-0.9.1+cu101\n",
            "Successfully installed PyJWT-1.7.1 syft-0.3.0.post0.dev1283+g1981da2a9 syft-proto-0.5.3 torch-1.8.0 torchvision-0.9.0 websocket-client-0.58.0\n"
          ],
          "name": "stdout"
        }
      ]
    },
    {
      "cell_type": "code",
      "metadata": {
        "id": "FangHrFw1LQi"
      },
      "source": [
        "\n",
        "import syft as sy"
      ],
      "execution_count": 1,
      "outputs": []
    },
    {
      "cell_type": "code",
      "metadata": {
        "colab": {
          "base_uri": "https://localhost:8080/",
          "height": 585
        },
        "id": "_l5aHWFL1OZv",
        "outputId": "0f17ca79-3ef0-4ea2-9d27-2eefe86b0131"
      },
      "source": [
        "duet = sy.launch_duet()"
      ],
      "execution_count": 3,
      "outputs": [
        {
          "output_type": "display_data",
          "data": {
            "image/png": "[encoded data removed]",
            "text/plain": [
              "<IPython.core.display.Image object>"
            ]
          },
          "metadata": {
            "tags": [],
            "image/png": {
              "width": 400,
              "unconfined": true
            }
          }
        },
        {
          "output_type": "stream",
          "text": [
            "🎤  🎸  ♪♪♪ Starting Duet ♫♫♫  🎻  🎹\n",
            "\n",
            "♫♫♫ >\u001b[93m DISCLAIMER\u001b[0m: \u001b[1mDuet is an experimental feature currently in beta.\n",
            "♫♫♫ > Use at your own risk.\n",
            "\u001b[0m\n",
            "\u001b[1m\n",
            "    > ❤️ \u001b[91mLove\u001b[0m \u001b[92mDuet\u001b[0m? \u001b[93mPlease\u001b[0m \u001b[94mconsider\u001b[0m \u001b[95msupporting\u001b[0m \u001b[91mour\u001b[0m \u001b[93mcommunity!\u001b[0m\n",
            "    > https://github.com/sponsors/OpenMined\u001b[1m\n",
            "\n",
            "♫♫♫ > Punching through firewall to OpenGrid Network Node at:\n",
            "♫♫♫ > http://ec2-18-216-8-163.us-east-2.compute.amazonaws.com:5000\n",
            "♫♫♫ >\n",
            "♫♫♫ > ...waiting for response from OpenGrid Network... \n",
            "♫♫♫ > \u001b[92mDONE!\u001b[0m\n",
            "♫♫♫ > Duet Server ID: \u001b[1m54e5f6cd6e17cd74c20eaa014baf5e4d\u001b[0m\n",
            "\n",
            "♫♫♫ > \u001b[95mSTEP 1:\u001b[0m Send the following code to your Duet Partner!\n",
            "\n",
            "import syft as sy\n",
            "duet = sy.duet(\"\u001b[1m54e5f6cd6e17cd74c20eaa014baf5e4d\u001b[0m\")\n",
            "\n",
            "♫♫♫ > \u001b[95mSTEP 2:\u001b[0m Ask your partner for their Client ID and enter it below!\n",
            "♫♫♫ > Duet Partner's Client ID: f600c328bca3658941c833a92841dce6\n",
            "\n",
            "♫♫♫ > Connecting...\n",
            "\n",
            "♫♫♫ > \u001b[92mCONNECTED!\u001b[0m\n",
            "\n"
          ],
          "name": "stdout"
        }
      ]
    },
    {
      "cell_type": "code",
      "metadata": {
        "colab": {
          "base_uri": "https://localhost:8080/"
        },
        "id": "M8y0sHMVL_kX",
        "outputId": "b0cdbf80-831c-403f-d2af-fc2e32d1c21e"
      },
      "source": [
        "from sklearn import datasets"
      ],
      "execution_count": 4,
      "outputs": [
        {
          "output_type": "stream",
          "text": [
            ""
          ],
          "name": "stdout"
        }
      ]
    },
    {
      "cell_type": "code",
      "metadata": {
        "id": "CNX3Z5aPQcWU"
      },
      "source": [
        "import torch as th"
      ],
      "execution_count": 5,
      "outputs": []
    },
    {
      "cell_type": "code",
      "metadata": {
        "id": "Gotjw7QYQeJO"
      },
      "source": [
        "#Load the IRIS Dataset and convert it into torch tensors and load into the duet \n",
        "iris =datasets.load_iris()\n",
        "X,y = iris.data,iris.target\n",
        "X = th.FloatTensor(X)\n",
        "y = th.FloatTensor(y)"
      ],
      "execution_count": 6,
      "outputs": []
    },
    {
      "cell_type": "code",
      "metadata": {
        "id": "-VdsXa6WQm8g"
      },
      "source": [
        "#Load the dataset into the duet server to be used by the data scientist\n",
        "X = X.tag(' Iris Data')\n",
        "y = y.tag('Iris Target')\n",
        "X= X.describe(\"Features\")\n",
        "y = y.describe(\"Labels\")\n",
        "#send it to the duet\n",
        "data_pointer = X.send(duet,pointable=True)\n",
        "target_pointer = y.send(duet,pointable=True)\n"
      ],
      "execution_count": 7,
      "outputs": []
    },
    {
      "cell_type": "code",
      "metadata": {
        "colab": {
          "base_uri": "https://localhost:8080/"
        },
        "id": "OrYAnMkDRnjZ",
        "outputId": "2140f013-d82d-4e9b-acb6-5a40212a00b2"
      },
      "source": [
        "duet.store"
      ],
      "execution_count": 8,
      "outputs": [
        {
          "output_type": "execute_result",
          "data": {
            "text/plain": [
              "[<syft.proxy.torch.TensorPointer object at 0x7fb23ce6ebd0>, <syft.proxy.torch.TensorPointer object at 0x7fb23e0afb10>]"
            ]
          },
          "metadata": {
            "tags": []
          },
          "execution_count": 8
        }
      ]
    },
    {
      "cell_type": "code",
      "metadata": {
        "colab": {
          "base_uri": "https://localhost:8080/",
          "height": 106
        },
        "id": "FjdbIwwNR_pm",
        "outputId": "be38d1b7-735f-4510-e392-3214a4de09e9"
      },
      "source": [
        "duet.store.pandas"
      ],
      "execution_count": 9,
      "outputs": [
        {
          "output_type": "execute_result",
          "data": {
            "text/html": [
              "<div>\n",
              "<style scoped>\n",
              "    .dataframe tbody tr th:only-of-type {\n",
              "        vertical-align: middle;\n",
              "    }\n",
              "\n",
              "    .dataframe tbody tr th {\n",
              "        vertical-align: top;\n",
              "    }\n",
              "\n",
              "    .dataframe thead th {\n",
              "        text-align: right;\n",
              "    }\n",
              "</style>\n",
              "<table border=\"1\" class=\"dataframe\">\n",
              "  <thead>\n",
              "    <tr style=\"text-align: right;\">\n",
              "      <th></th>\n",
              "      <th>ID</th>\n",
              "      <th>Tags</th>\n",
              "      <th>Description</th>\n",
              "      <th>object_type</th>\n",
              "    </tr>\n",
              "  </thead>\n",
              "  <tbody>\n",
              "    <tr>\n",
              "      <th>0</th>\n",
              "      <td>&lt;UID: 377a1c80191b48caaf2cfb4baa505d65&gt;</td>\n",
              "      <td>[ Iris Data]</td>\n",
              "      <td>Features</td>\n",
              "      <td>&lt;class 'torch.Tensor'&gt;</td>\n",
              "    </tr>\n",
              "    <tr>\n",
              "      <th>1</th>\n",
              "      <td>&lt;UID: a4e90d7e833f4fc485b503bef9aac0ef&gt;</td>\n",
              "      <td>[Iris Target]</td>\n",
              "      <td>Labels</td>\n",
              "      <td>&lt;class 'torch.Tensor'&gt;</td>\n",
              "    </tr>\n",
              "  </tbody>\n",
              "</table>\n",
              "</div>"
            ],
            "text/plain": [
              "                                        ID  ...             object_type\n",
              "0  <UID: 377a1c80191b48caaf2cfb4baa505d65>  ...  <class 'torch.Tensor'>\n",
              "1  <UID: a4e90d7e833f4fc485b503bef9aac0ef>  ...  <class 'torch.Tensor'>\n",
              "\n",
              "[2 rows x 4 columns]"
            ]
          },
          "metadata": {
            "tags": []
          },
          "execution_count": 9
        }
      ]
    },
    {
      "cell_type": "code",
      "metadata": {
        "id": "3JDzS7KISBdg"
      },
      "source": [
        "#set the request handler for users request\n",
        "duet.requests.add_handler(action='accept')"
      ],
      "execution_count": 10,
      "outputs": []
    },
    {
      "cell_type": "code",
      "metadata": {
        "id": "Xs1Himx2SrHQ"
      },
      "source": [
        ""
      ],
      "execution_count": null,
      "outputs": []
    }
  ]
}